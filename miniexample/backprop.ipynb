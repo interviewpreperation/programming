{
 "cells": [
  {
   "cell_type": "markdown",
   "id": "c2ac3d21",
   "metadata": {},
   "source": [
    "# Backprop"
   ]
  },
  {
   "cell_type": "markdown",
   "id": "32c0963d",
   "metadata": {},
   "source": [
    "https://www.reddit.com/r/learnmachinelearning/comments/1gvzv7l/resources_to_practice_backpropagation_for\n",
    "\n",
    "https://medium.com/@andresberejnoi/how-to-implement-backpropagation-with-numpy-andres-berejnoi-e7c14f2e683a\n",
    "\n",
    "\n",
    "https://ml-cheatsheet.readthedocs.io/en/latest/backpropagation.html\n",
    "\n",
    "https://www.askpython.com/python/examples/backpropagation-in-python"
   ]
  },
  {
   "cell_type": "code",
   "execution_count": null,
   "id": "fb9c625e",
   "metadata": {},
   "outputs": [],
   "source": [
    "import numpy as np\n",
    "import pandas as pd\n",
    "from sklearn.datasets import load_iris\n",
    "from sklearn.model_selection import train_test_split\n",
    "import matplotlib.pyplot as plt"
   ]
  },
  {
   "cell_type": "code",
   "execution_count": null,
   "id": "4fe94914",
   "metadata": {},
   "outputs": [],
   "source": [
    "# Loading dataset\n",
    "data = load_iris()\n",
    " \n",
    "# Dividing the dataset into target variable and features\n",
    "X=data.data\n",
    "y=data.target\n",
    "\n",
    "# Split dataset into training and test sets\n",
    "X_train, X_test, y_train, y_test = train_test_split(X, y, test_size=20, random_state=4)"
   ]
  },
  {
   "cell_type": "code",
   "execution_count": null,
   "id": "ee3c8d2d",
   "metadata": {},
   "outputs": [],
   "source": [
    "learning_rate = 0.1\n",
    "iterations = 5000\n",
    "N = y_train.size\n",
    " \n",
    "# Input features\n",
    "input_size = 4\n",
    " \n",
    "# Hidden layers \n",
    "hidden_size = 2\n",
    " \n",
    "# Output layer\n",
    "output_size = 3"
   ]
  },
  {
   "cell_type": "code",
   "execution_count": null,
   "id": "f1acfaa7",
   "metadata": {},
   "outputs": [],
   "source": [
    "np.random.seed(10)\n",
    " \n",
    "# Hidden layer\n",
    "W1 = np.random.normal(scale=0.5, size=(input_size, hidden_size))   \n",
    " \n",
    "# Output layer\n",
    "W2 = np.random.normal(scale=0.5, size=(hidden_size , output_size)) "
   ]
  },
  {
   "cell_type": "code",
   "execution_count": null,
   "id": "aea76d5e",
   "metadata": {},
   "outputs": [],
   "source": [
    "# Helper functions\n",
    " \n",
    "def sigmoid(x):\n",
    "    return 1 / (1 + np.exp(-x))\n",
    " \n",
    "def mean_squared_error(y_pred, y_true):\n",
    "    # One-hot encode y_true (i.e., convert [0, 1, 2] into [[1, 0, 0], [0, 1, 0], [0, 0, 1]])\n",
    "    y_true_one_hot = np.eye(output_size)[y_true]\n",
    "     \n",
    "    # Reshape y_true_one_hot to match y_pred shape\n",
    "    y_true_reshaped = y_true_one_hot.reshape(y_pred.shape)\n",
    "     \n",
    "    # Compute the mean squared error between y_pred and y_true_reshaped\n",
    "    error = ((y_pred - y_true_reshaped)**2).sum() / (2*y_pred.size)\n",
    " \n",
    "    return error\n",
    " \n",
    "def accuracy(y_pred, y_true):\n",
    "    acc = y_pred.argmax(axis=1) ==  y_true.argmax(axis=1)\n",
    "    return acc.mean()\n",
    " \n",
    "results = pd.DataFrame(columns=[\"mse\", \"accuracy\"])\n",
    "\n",
    "# Training loop\n",
    "for itr in range(iterations):\n",
    "    # Feedforward propagation\n",
    "    Z1 = np.dot(X_train, W1)\n",
    "    A1 = sigmoid(Z1)\n",
    "    Z2 = np.dot(A1, W2)\n",
    "    A2 = sigmoid(Z2)\n",
    " \n",
    "    # Calculate error\n",
    "    mse = mean_squared_error(A2, y_train)\n",
    "    acc = accuracy(np.eye(output_size)[y_train], A2)\n",
    "    new_row = pd.DataFrame({\"mse\": [mse], \"accuracy\": [acc]})\n",
    "    results = pd.concat([results, new_row], ignore_index=True)\n",
    " \n",
    "    # Backpropagation\n",
    "    E1 = A2 - np.eye(output_size)[y_train]\n",
    "    dW1 = E1 * A2 * (1 - A2)\n",
    "    E2 = np.dot(dW1, W2.T)\n",
    "    dW2 = E2 * A1 * (1 - A1)\n",
    " \n",
    "    # Update weights\n",
    "    W2_update = np.dot(A1.T, dW1) / N\n",
    "    W1_update = np.dot(X_train.T, dW2) / N\n",
    "    W2 = W2 - learning_rate * W2_update\n",
    "    W1 = W1 - learning_rate * W1_update\n",
    " \n",
    "# Visualizing the results\n",
    "results.mse.plot(title=\"Mean Squared Error\")\n",
    "plt.show()\n",
    " \n",
    "results.accuracy.plot(title=\"Accuracy\")\n",
    "plt.show()\n",
    " \n",
    "# Test the model\n",
    "Z1 = np.dot(X_test, W1)\n",
    "A1 = sigmoid(Z1)\n",
    "Z2 = np.dot(A1, W2)\n",
    "A2 = sigmoid(Z2)\n",
    "test_acc = accuracy(np.eye(output_size)[y_test], A2)\n",
    "print(\"Test accuracy: {}\".format(test_acc))"
   ]
  }
 ],
 "metadata": {
  "language_info": {
   "name": "python"
  }
 },
 "nbformat": 4,
 "nbformat_minor": 5
}
