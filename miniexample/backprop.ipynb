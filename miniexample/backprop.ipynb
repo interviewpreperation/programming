# https://www.reddit.com/r/learnmachinelearning/comments/1gvzv7l/resources_to_practice_backpropagation_for
# https://medium.com/@andresberejnoi/how-to-implement-backpropagation-with-numpy-andres-berejnoi-e7c14f2e683a

