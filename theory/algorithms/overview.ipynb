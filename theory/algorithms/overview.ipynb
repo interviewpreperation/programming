{
 "cells": [
  {
   "cell_type": "markdown",
   "metadata": {},
   "source": [
    "# Overview: Algorithm\n",
    "\n",
    "https://www.geeksforgeeks.org/introduction-to-algorithms/?ref=outind\n",
    "\n",
    "The word Algorithm means ” A set of finite rules or instructions to be followed in calculations or other problem-solving operations ” \n",
    "Or \n",
    "” A procedure for solving a mathematical problem in a finite number of steps that frequently involves recursive operations”.\n",
    "\n",
    "1. Brute Force Algorithm\n",
    "2. Recursive Algorithm\n",
    "3. Backtracking Algorithm\n",
    "4. Searching Algorithm\n",
    "5. Soring Algorithm\n",
    "6. Hasing Algorithm\n",
    "7. Divide and Conquere Algorithm\n",
    "8. Greedy Algorithm\n",
    "9. Dynamice Programming Algorithm\n",
    "10. Randomized Algorithm"
   ]
  },
  {
   "cell_type": "markdown",
   "metadata": {},
   "source": []
  }
 ],
 "metadata": {
  "language_info": {
   "name": "python"
  }
 },
 "nbformat": 4,
 "nbformat_minor": 2
}
