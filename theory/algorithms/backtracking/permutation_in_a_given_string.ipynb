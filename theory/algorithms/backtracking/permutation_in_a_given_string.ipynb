{
 "cells": [
  {
   "cell_type": "markdown",
   "metadata": {},
   "source": [
    "# https://www.geeksforgeeks.org/write-a-c-program-to-print-all-permutations-of-a-given-string/"
   ]
  },
  {
   "cell_type": "code",
   "execution_count": 2,
   "metadata": {},
   "outputs": [],
   "source": [
    "def swap(s,i,j):\n",
    "    s = list(s)\n",
    "    s[i], s[j] = s[j], s[i]\n",
    "    return ''.join(s)\n",
    "\n",
    "def permuteRec(s, idx):\n",
    "    if idx == len(s) - 1:\n",
    "        print(s)\n",
    "        return\n",
    "    \n",
    "    for i in range(idx, len(s)):\n",
    "        \n",
    "        # swapping\n",
    "        s = swap(s, idx, i)\n",
    "        \n",
    "        permuteRec(s, idx+1)\n",
    "\n",
    "        s = swap(s, idx, i)\n",
    "\n",
    "\n",
    "def permute(s):\n",
    "    permuteRec(s, 0)"
   ]
  },
  {
   "cell_type": "code",
   "execution_count": 4,
   "metadata": {},
   "outputs": [
    {
     "name": "stdout",
     "output_type": "stream",
     "text": [
      "ABC\n",
      "ACB\n",
      "BAC\n",
      "BCA\n",
      "CBA\n",
      "CAB\n"
     ]
    }
   ],
   "source": [
    "s = \"ABC\"\n",
    "permute(s)"
   ]
  }
 ],
 "metadata": {
  "kernelspec": {
   "display_name": "Python 3",
   "language": "python",
   "name": "python3"
  },
  "language_info": {
   "codemirror_mode": {
    "name": "ipython",
    "version": 3
   },
   "file_extension": ".py",
   "mimetype": "text/x-python",
   "name": "python",
   "nbconvert_exporter": "python",
   "pygments_lexer": "ipython3",
   "version": "3.12.1"
  }
 },
 "nbformat": 4,
 "nbformat_minor": 2
}
