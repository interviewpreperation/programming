{
 "cells": [
  {
   "cell_type": "markdown",
   "metadata": {},
   "source": [
    "# Graph\n",
    "\n",
    "https://www.geeksforgeeks.org/introduction-to-graphs-data-structure-and-algorithm-tutorials/"
   ]
  },
  {
   "cell_type": "code",
   "execution_count": 6,
   "metadata": {},
   "outputs": [
    {
     "data": {
      "text/plain": [
       "[[], [], [], []]"
      ]
     },
     "execution_count": 6,
     "metadata": {},
     "output_type": "execute_result"
    }
   ],
   "source": [
    "# Create a graph with 4 vertices and no edges\n",
    "V = 4\n",
    "adj = [[] for _ in range(V)]\n",
    "\n",
    "adj"
   ]
  },
  {
   "cell_type": "markdown",
   "metadata": {},
   "source": [
    "# Adjacency List"
   ]
  },
  {
   "cell_type": "code",
   "execution_count": 9,
   "metadata": {},
   "outputs": [
    {
     "data": {
      "text/plain": [
       "[[1, 2, 1, 2, 1, 2],\n",
       " [0, 2, 0, 2, 0, 2],\n",
       " [0, 1, 3, 0, 1, 3, 0, 1, 3],\n",
       " [2, 2, 2]]"
      ]
     },
     "execution_count": 9,
     "metadata": {},
     "output_type": "execute_result"
    }
   ],
   "source": [
    "def add_edge(adj, i, j):\n",
    "    adj[i].append(j)\n",
    "    adj[j].append(i)  # Undirected\n",
    "    \n",
    "\n",
    "# Now add edges one by one\n",
    "add_edge(adj, 0, 1)\n",
    "add_edge(adj, 0, 2)\n",
    "add_edge(adj, 1, 2)\n",
    "add_edge(adj, 2, 3)\n",
    "\n",
    "adj"
   ]
  },
  {
   "cell_type": "markdown",
   "metadata": {},
   "source": [
    "- https://www.geeksforgeeks.org/add-and-remove-vertex-in-adjacency-list-representation-of-graph\n",
    "- https://www.geeksforgeeks.org/add-and-remove-vertex-in-adjacency-matrix-representation-of-graph\n",
    "\n",
    "- https://www.geeksforgeeks.org/add-and-remove-edge-in-adjacency-list-representation-of-a-graph\n",
    "- https://www.geeksforgeeks.org/add-and-remove-edge-in-adjacency-matrix-representation-of-a-graph\n"
   ]
  },
  {
   "cell_type": "code",
   "execution_count": null,
   "metadata": {},
   "outputs": [],
   "source": []
  }
 ],
 "metadata": {
  "kernelspec": {
   "display_name": "Python 3",
   "language": "python",
   "name": "python3"
  },
  "language_info": {
   "codemirror_mode": {
    "name": "ipython",
    "version": 3
   },
   "file_extension": ".py",
   "mimetype": "text/x-python",
   "name": "python",
   "nbconvert_exporter": "python",
   "pygments_lexer": "ipython3",
   "version": "3.12.1"
  }
 },
 "nbformat": 4,
 "nbformat_minor": 2
}
