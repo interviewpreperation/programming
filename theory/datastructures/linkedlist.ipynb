{
 "cells": [
  {
   "cell_type": "markdown",
   "metadata": {},
   "source": [
    "# Single Linked List\n",
    "\n",
    "https://www.geeksforgeeks.org/introduction-to-linked-list-data-structure/"
   ]
  },
  {
   "cell_type": "code",
   "execution_count": 8,
   "metadata": {},
   "outputs": [],
   "source": [
    "# Python Program to insert the node at the beginning of\n",
    "# Linked List\n",
    "\n",
    "class Node:\n",
    "    def __init__(self, new_data):\n",
    "        self.data = new_data\n",
    "        self.next = None"
   ]
  },
  {
   "cell_type": "markdown",
   "metadata": {},
   "source": [
    "## Insert at the beginning"
   ]
  },
  {
   "cell_type": "code",
   "execution_count": 9,
   "metadata": {},
   "outputs": [],
   "source": [
    "# Create the linked list 2->3->4->5\n",
    "head = Node(2)\n",
    "head.next = Node(3)\n",
    "head.next.next = Node(4)\n",
    "head.next.next.next = Node(5)\n",
    "\n",
    "head_new = Node(1)\n",
    "head_new.next = head"
   ]
  },
  {
   "cell_type": "code",
   "execution_count": 10,
   "metadata": {},
   "outputs": [
    {
     "name": "stdout",
     "output_type": "stream",
     "text": [
      " 1 2 3 4"
     ]
    }
   ],
   "source": [
    "def print_ll(head):\n",
    "    curr = head\n",
    "    while curr.next != None:\n",
    "        print(f\" {curr.data}\", end=\"\")\n",
    "        curr = curr.next\n",
    "\n",
    "print_ll(head_new)"
   ]
  },
  {
   "cell_type": "markdown",
   "metadata": {},
   "source": [
    "## Insert a Node after a Given Node in Linked List\n",
    "\n",
    "https://www.geeksforgeeks.org/insertion-in-linked-list/"
   ]
  },
  {
   "cell_type": "code",
   "execution_count": 11,
   "metadata": {},
   "outputs": [
    {
     "name": "stdout",
     "output_type": "stream",
     "text": [
      " 1 2 3 28 4"
     ]
    }
   ],
   "source": [
    "def insertAfter(head, key, newData):\n",
    "    new_node = Node(newData)\n",
    "\n",
    "    curr = head \n",
    "    while curr.next != None:\n",
    "        if curr.data == key:\n",
    "            break\n",
    "        curr = curr.next\n",
    "\n",
    "    if curr == None:\n",
    "        return head\n",
    "    \n",
    "\n",
    "    new_node.next = curr.next\n",
    "    curr.next = new_node\n",
    "\n",
    "    return head\n",
    "    \n",
    "\n",
    "insertAfter(head_new, 3, 28)\n",
    "print_ll(head_new)\n",
    "    "
   ]
  },
  {
   "cell_type": "markdown",
   "metadata": {},
   "source": [
    "# Insert before"
   ]
  },
  {
   "cell_type": "code",
   "execution_count": 12,
   "metadata": {},
   "outputs": [
    {
     "name": "stdout",
     "output_type": "stream",
     "text": [
      " 1 2 3 27 28 4"
     ]
    }
   ],
   "source": [
    "def insertBefore(head, key, newData):\n",
    "    curr = head\n",
    "    prev = None\n",
    "\n",
    "    # Traverse the list to find the key\n",
    "    while curr is not None and curr.data != key:\n",
    "        prev = curr\n",
    "        curr = curr.next\n",
    "\n",
    "    # If the key was found\n",
    "    if curr is not None:\n",
    "        new_node = Node(newData)\n",
    "        prev.next = new_node\n",
    "        new_node.next = curr\n",
    "\n",
    "    return head\n",
    "\n",
    "insertBefore(head_new, 28, 27)\n",
    "print_ll(head_new)\n"
   ]
  },
  {
   "cell_type": "markdown",
   "metadata": {},
   "source": [
    "## Insert at the end"
   ]
  },
  {
   "cell_type": "code",
   "execution_count": 19,
   "metadata": {},
   "outputs": [
    {
     "name": "stdout",
     "output_type": "stream",
     "text": [
      " 1 2 3 27 28 4 5 29 29"
     ]
    }
   ],
   "source": [
    "def insertAtEnd(head, new_data):\n",
    "\n",
    "    # Create a new node\n",
    "    new_node = Node(new_data)\n",
    "\n",
    "    # If the Linked List is empty, make the\n",
    "    # new node as the head and return\n",
    "    if head is None:\n",
    "        return new_node\n",
    "\n",
    "    # Store the head reference in a temporary variable\n",
    "    last = head\n",
    "\n",
    "    # Traverse till the last node\n",
    "    while last.next:\n",
    "        last = last.next\n",
    "\n",
    "    # Change the next pointer of the last\n",
    "    # node to point to the new node\n",
    "    last.next = new_node\n",
    "\n",
    "    # Return the head of the list\n",
    "    return head\n",
    "\n",
    "\n",
    "insertAtEnd(head_new, 29)\n",
    "print_ll(head_new)"
   ]
  },
  {
   "cell_type": "markdown",
   "metadata": {},
   "source": [
    "# Double Linked List"
   ]
  },
  {
   "cell_type": "code",
   "execution_count": null,
   "metadata": {},
   "outputs": [],
   "source": []
  }
 ],
 "metadata": {
  "kernelspec": {
   "display_name": "Python 3",
   "language": "python",
   "name": "python3"
  },
  "language_info": {
   "codemirror_mode": {
    "name": "ipython",
    "version": 3
   },
   "file_extension": ".py",
   "mimetype": "text/x-python",
   "name": "python",
   "nbconvert_exporter": "python",
   "pygments_lexer": "ipython3",
   "version": "3.12.1"
  }
 },
 "nbformat": 4,
 "nbformat_minor": 2
}
