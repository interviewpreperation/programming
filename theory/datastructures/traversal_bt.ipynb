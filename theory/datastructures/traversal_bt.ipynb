{
 "cells": [
  {
   "cell_type": "markdown",
   "metadata": {},
   "source": [
    "# Traversal in binary tree\n",
    "\n",
    "- [Preorder Traversal](https://www.geeksforgeeks.org/preorder-traversal-of-binary-tree/) (current-left-right): Visits the node first, then left subtree, then right subtree.\n",
    "- [Inorder Traversal](https://www.geeksforgeeks.org/inorder-traversal-of-binary-tree/) (left-current-right): Visits left subtree, then the node, then the right subtree.\n",
    "- [Postorder Traversal](https://www.geeksforgeeks.org/postorder-traversal-of-binary-tree/) (left-right-current): Visits left subtree, then right subtree, then the node."
   ]
  },
  {
   "cell_type": "markdown",
   "metadata": {},
   "source": [
    "## Preorder Traversal"
   ]
  },
  {
   "cell_type": "markdown",
   "metadata": {},
   "source": []
  }
 ],
 "metadata": {
  "language_info": {
   "name": "python"
  }
 },
 "nbformat": 4,
 "nbformat_minor": 2
}
