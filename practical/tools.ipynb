{
 "cells": [
  {
   "cell_type": "markdown",
   "metadata": {},
   "source": [
    "# Character Converter\n",
    "\n",
    "https://www.youtube.com/watch?v=10tBWNjzvtw"
   ]
  },
  {
   "cell_type": "code",
   "execution_count": 1,
   "metadata": {},
   "outputs": [
    {
     "data": {
      "text/plain": [
       "'a'"
      ]
     },
     "execution_count": 1,
     "metadata": {},
     "output_type": "execute_result"
    }
   ],
   "source": [
    "def lower(c):\n",
    "    if ord(c) < ord('a'):\n",
    "        return chr(ord('a') + ord(c) - ord('A'))\n",
    "    return c\n",
    "\n",
    "lower('A')"
   ]
  },
  {
   "cell_type": "code",
   "execution_count": 1,
   "metadata": {},
   "outputs": [
    {
     "name": "stdout",
     "output_type": "stream",
     "text": [
      "97\n",
      "65\n"
     ]
    }
   ],
   "source": [
    "print(ord('a'))\n",
    "print(ord('A'))"
   ]
  },
  {
   "cell_type": "code",
   "execution_count": 13,
   "metadata": {},
   "outputs": [
    {
     "name": "stdout",
     "output_type": "stream",
     "text": [
      "1 B 13\n",
      "0 A 0\n"
     ]
    }
   ],
   "source": [
    "columnNumber = 28\n",
    "offset = (columnNumber - 1) % 26\n",
    "print(offset, chr(ord('A') + offset), (columnNumber - 1) // 2)\n",
    "columnNumber = (columnNumber - 1) // 26\n",
    "offset = (columnNumber - 1) % 26\n",
    "print(offset, chr(ord('A') + offset), (columnNumber - 1) // 2)\n",
    "\n"
   ]
  },
  {
   "cell_type": "markdown",
   "metadata": {},
   "source": []
  },
  {
   "cell_type": "markdown",
   "metadata": {},
   "source": []
  }
 ],
 "metadata": {
  "kernelspec": {
   "display_name": "p310",
   "language": "python",
   "name": "python3"
  },
  "language_info": {
   "codemirror_mode": {
    "name": "ipython",
    "version": 3
   },
   "file_extension": ".py",
   "mimetype": "text/x-python",
   "name": "python",
   "nbconvert_exporter": "python",
   "pygments_lexer": "ipython3",
   "version": "3.10.11"
  }
 },
 "nbformat": 4,
 "nbformat_minor": 2
}
