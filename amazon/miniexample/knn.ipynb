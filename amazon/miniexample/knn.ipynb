{
 "cells": [
  {
   "cell_type": "markdown",
   "id": "010471c8",
   "metadata": {},
   "source": [
    "# KNN\n",
    "\n",
    "- [Source](https://github.com/alirezadir/Machine-Learning-Interviews/blob/main/src/MLC/notebooks/knn.ipynb)"
   ]
  }
 ],
 "metadata": {
  "language_info": {
   "name": "python"
  }
 },
 "nbformat": 4,
 "nbformat_minor": 5
}
