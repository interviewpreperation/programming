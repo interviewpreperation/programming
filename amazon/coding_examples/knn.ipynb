{
 "cells": [
  {
   "cell_type": "markdown",
   "id": "010471c8",
   "metadata": {},
   "source": [
    "# KNN\n",
    "\n",
    "- [Source](https://github.com/alirezadir/Machine-Learning-Interviews/blob/main/src/MLC/notebooks/knn.ipynb)\n",
    "\n",
    "Algorithm:\n",
    "1. Choose a value of k (the number of NN to consider)\n",
    "    - Small value of k --> more flexible decision boundary --> overfitting\n",
    "    - Large value of k --> smoother decision boundary --> less prone to overfitting\n",
    "2. For each data point in the test set, compute its distance (Euclidian, Manhatten, Minkowski) to all data points in the training set. \n",
    "3. Select the k-NN based on their distances.\n",
    "4. Assign the class label that apprears most frequently among the k NN to the test point.\n",
    "\n",
    "KNN can also be used for regression tasks, where the goal is to predict a continous value instead of class labels. The predicted value for the test point is the average of the values of its k NN in the training set."
   ]
  },
  {
   "cell_type": "code",
   "execution_count": 9,
   "id": "feb4e3f0",
   "metadata": {},
   "outputs": [],
   "source": [
    "from collections import Counter\n",
    "import numpy as np\n",
    "\n",
    "class KNN:\n",
    "    def __init__(self, k=3, distance='euclidean'):\n",
    "        self.k = k\n",
    "        self.distances = distance\n",
    "    \n",
    "    def fit(self, X_train, y_train):\n",
    "        self.X_train = X_train\n",
    "        self.y_train = y_train\n",
    "\n",
    "    def predict(self, X_test):\n",
    "        y_pred = []\n",
    "\n",
    "        for x in X_test:\n",
    "            if self.distances == 'minkowski':\n",
    "                distances = np.power(np.sum(np.power(np.abs(self.X_train - x), self.distance), axis=1), 1/self.distance)\n",
    "            elif self.distances == 'manhattan':\n",
    "                distances = np.sum(np.abs(self.X_train - x), axis=1)\n",
    "            else:\n",
    "                distances = np.linalg.norm(self.X_train - x, axis=1)\n",
    "                \n",
    "            nearest_indices = np.argsort(distances)[:self.k]\n",
    "            nearest_labels = self.y_train[nearest_indices]\n",
    "\n",
    "            # Assign the class label that appreas most fequently among the k NN. \n",
    "            label = Counter(nearest_labels).most_common(1)[0][0]\n",
    "            y_pred.append(label)\n",
    "        \n",
    "        return np.array(y_pred)"
   ]
  },
  {
   "cell_type": "code",
   "execution_count": 10,
   "id": "eb390aa0",
   "metadata": {},
   "outputs": [
    {
     "name": "stdout",
     "output_type": "stream",
     "text": [
      "Accuracy: 1.0\n"
     ]
    }
   ],
   "source": [
    "from sklearn.datasets import load_iris\n",
    "from sklearn.model_selection import train_test_split\n",
    "from sklearn.metrics import accuracy_score\n",
    "\n",
    "# Load the iris dataset\n",
    "iris = load_iris()\n",
    "\n",
    "# Split the data into training and test sets\n",
    "X_train, X_test, y_train, y_test = train_test_split(iris.data, iris.target, test_size=0.2, random_state=42)\n",
    "\n",
    "# Create a KNN classifier with k=5 and euclidean distance\n",
    "knn = KNN(k=5, distance='euclidean')\n",
    "\n",
    "# Train the classifier on the training data\n",
    "knn.fit(X_train, y_train)\n",
    "\n",
    "# Make predictions on the test data\n",
    "y_pred = knn.predict(X_test)\n",
    "\n",
    "# Compute the accuracy of the classifier\n",
    "accuracy = accuracy_score(y_test, y_pred)\n",
    "print(f\"Accuracy: {accuracy}\")"
   ]
  },
  {
   "cell_type": "code",
   "execution_count": null,
   "id": "ec9834ad",
   "metadata": {},
   "outputs": [],
   "source": []
  }
 ],
 "metadata": {
  "kernelspec": {
   "display_name": "Python 3",
   "language": "python",
   "name": "python3"
  },
  "language_info": {
   "codemirror_mode": {
    "name": "ipython",
    "version": 3
   },
   "file_extension": ".py",
   "mimetype": "text/x-python",
   "name": "python",
   "nbconvert_exporter": "python",
   "pygments_lexer": "ipython3",
   "version": "3.12.1"
  }
 },
 "nbformat": 4,
 "nbformat_minor": 5
}
