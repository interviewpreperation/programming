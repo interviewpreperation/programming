{
 "cells": [
  {
   "cell_type": "markdown",
   "id": "d0ed362e",
   "metadata": {},
   "source": [
    "# K-Means\n",
    "\n",
    "[Source](https://github.com/alirezadir/Machine-Learning-Interviews/blob/main/src/MLC/notebooks/k_means.ipynb)\n",
    "\n",
    "- Input: data points\n",
    "- Output: k-clusters\n",
    "\n",
    "Several steps:\n",
    "1. Initialize: Randomly initializing k cluster centers.\n",
    "2. Assign data points to cluster centers: Each data point in the dataset is then assigned to the nearest cluster center based on their distance (often Euclidian distance, Manhatten, or cosine similarity).  At the end all data points are assigned per cluster.\n",
    "3. Update Mean: New mean for each cluster is calculated by taking the average of all data points of the cluster. The new means becomes the new cluster center.\n",
    "4. Jump to 2, if not: cluster centers are still updated in 3 OR maximum number of iterations has been reached.\n",
    "5. Final output: K clusters with their corresponding centroids."
   ]
  },
  {
   "cell_type": "markdown",
   "id": "d72e12f4",
   "metadata": {},
   "source": [
    "https://aman.ai/primers/ai/interview/#what-is-convergence-in-k-means-clustering"
   ]
  },
  {
   "cell_type": "code",
   "execution_count": null,
   "id": "64c18f14",
   "metadata": {},
   "outputs": [],
   "source": [
    "import numpy as np\n",
    "\n",
    "class KMeans:\n",
    "    def __init__(self, k=3, max_iters=100):\n",
    "        self.k = k\n",
    "        self.max_iters = max_iters\n",
    "\n",
    "    def fit(self, X):\n",
    "        n_samples, n_features = X.shape\n",
    "        random_indices = np.random.choice(n_samples, self.k, replace=False) # replace ... each index only sampled once.\n",
    "        print(f\"random indices: {random_indices}\")\n",
    "        self.centroids = X[random_indices]\n",
    "        print(f\"centroids: {self.centroids}\")\n",
    "        print(\"X.shape:\", X.shape)\n",
    "\n",
    "        for _ in range(self.max_iters):\n",
    "            # (n_samples, 1, n_features) - (k, n_features) → (n_samples, k, n_features)\n",
    "            labels = self.predict(X)\n",
    "\n",
    "            # Computes new centroids by taking the mean of all points assigned to each cluster.\n",
    "            new_centroids = np.array([X[labels == i].mean(axis=0) for i in range(self.k)])\n",
    "            if np.all(new_centroids == self.centroids):\n",
    "                break\n",
    "            self.centroids = new_centroids\n",
    "\n",
    "    def predict(self, X):\n",
    "        distances = np.linalg.norm(X[:, np.newaxis] - self.centroids, axis=2)\n",
    "        print(f\"distances: {distances}\")\n",
    "        labels = np.argmin(distances, axis=1)\n",
    "        print(f\"labels: {labels}\")\n",
    "        return labels\n",
    "    \n",
    "    def fit_predict(self, X):\n",
    "        self.fit(X)\n",
    "        return self.predict(X)\n",
    "    \n",
    "    def get_centroids(self):\n",
    "        return self.centroids       "
   ]
  },
  {
   "cell_type": "code",
   "execution_count": 25,
   "id": "90bb1b33",
   "metadata": {},
   "outputs": [
    {
     "data": {
      "text/plain": [
       "<matplotlib.legend.Legend at 0x7dfbebffa3f0>"
      ]
     },
     "execution_count": 25,
     "metadata": {},
     "output_type": "execute_result"
    },
    {
     "data": {
      "image/png": "[encoded data removed]",
      "text/plain": [
       "<Figure size 640x480 with 1 Axes>"
      ]
     },
     "metadata": {},
     "output_type": "display_data"
    }
   ],
   "source": [
    "x1 = np.random.randn(5,2) + 5\n",
    "x2 = np.random.randn(5,2) - 5\n",
    "X = np.concatenate([x1, x2], axis=0)\n",
    "\n",
    "import matplotlib.pyplot as plt\n",
    "plt.scatter(x1[:,0], x1[:,1], label='Cluster 1 (+5)')\n",
    "plt.scatter(x2[:,0], x2[:,1], label='Cluster 2 (-5)')\n",
    "plt.legend()"
   ]
  },
  {
   "cell_type": "code",
   "execution_count": 26,
   "id": "7909f9a0",
   "metadata": {},
   "outputs": [
    {
     "name": "stdout",
     "output_type": "stream",
     "text": [
      "random indices: [2 6]\n",
      "centroids: [[ 3.92398354  6.53873459]\n",
      " [-5.77049702 -5.69924493]]\n",
      "X.shape: (10, 2)\n",
      "distances: [[ 3.56611155 16.36897861]\n",
      " [ 1.69900656 14.87448489]\n",
      " [ 0.         15.6125301 ]\n",
      " [ 1.99974087 14.55464776]\n",
      " [ 2.204355   14.63747421]\n",
      " [14.45863732  1.51876098]\n",
      " [15.6125301   0.        ]\n",
      " [15.31629984  0.46600176]\n",
      " [14.86486401  1.73816219]\n",
      " [13.47087619  3.31814912]]\n",
      "labels: [0 0 0 0 0 1 1 1 1 1]\n",
      "distances: [[ 2.04240059 15.2803246 ]\n",
      " [ 0.35454924 13.88050629]\n",
      " [ 1.79967195 14.70782192]\n",
      " [ 0.61629296 13.55089122]\n",
      " [ 0.59336527 13.61842347]\n",
      " [13.90940507  0.25941539]\n",
      " [15.17083028  1.29106347]\n",
      " [14.91775461  1.40031675]\n",
      " [14.24807334  0.64418961]\n",
      " [12.74148107  2.02753078]]\n",
      "labels: [0 0 0 0 0 1 1 1 1 1]\n",
      "distances: [[ 2.04240059 15.2803246 ]\n",
      " [ 0.35454924 13.88050629]\n",
      " [ 1.79967195 14.70782192]\n",
      " [ 0.61629296 13.55089122]\n",
      " [ 0.59336527 13.61842347]\n",
      " [13.90940507  0.25941539]\n",
      " [15.17083028  1.29106347]\n",
      " [14.91775461  1.40031675]\n",
      " [14.24807334  0.64418961]\n",
      " [12.74148107  2.02753078]]\n",
      "labels: [0 0 0 0 0 1 1 1 1 1]\n",
      "[0 0 0 0 0 1 1 1 1 1]\n",
      "[[ 4.93507139  5.04993626]\n",
      " [-4.49143227 -5.52363675]]\n"
     ]
    }
   ],
   "source": [
    "# Initialize the KMeans object with k=3\n",
    "kmeans = KMeans(k=2)\n",
    "\n",
    "# Fit the k-means model to the dataset\n",
    "kmeans.fit(X)\n",
    "\n",
    "# Get the cluster assignments for the input dataset\n",
    "cluster_assignments = kmeans.predict(X)\n",
    "\n",
    "# Print the cluster assignments\n",
    "print(cluster_assignments)\n",
    "\n",
    "# Print the learned centroids\n",
    "print(kmeans.centroids)"
   ]
  },
  {
   "cell_type": "code",
   "execution_count": null,
   "id": "c7f785b4",
   "metadata": {},
   "outputs": [],
   "source": []
  }
 ],
 "metadata": {
  "kernelspec": {
   "display_name": "Python 3",
   "language": "python",
   "name": "python3"
  },
  "language_info": {
   "codemirror_mode": {
    "name": "ipython",
    "version": 3
   },
   "file_extension": ".py",
   "mimetype": "text/x-python",
   "name": "python",
   "nbconvert_exporter": "python",
   "pygments_lexer": "ipython3",
   "version": "3.12.1"
  }
 },
 "nbformat": 4,
 "nbformat_minor": 5
}
